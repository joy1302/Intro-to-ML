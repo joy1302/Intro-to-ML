{
 "cells": [
  {
   "cell_type": "markdown",
   "id": "6b901064",
   "metadata": {},
   "source": [
    "# Question 1\n"
   ]
  },
  {
   "cell_type": "code",
   "execution_count": 18,
   "id": "8a264546",
   "metadata": {},
   "outputs": [
    {
     "name": "stdout",
     "output_type": "stream",
     "text": [
      "sorted list is :  [19, 19, 20, 22, 24, 24, 24, 25, 25, 26]\n",
      "Minimum Age is :  19\n",
      "Maximum Age is :  26\n",
      "Appending the Min:  [19, 22, 19, 24, 20, 25, 26, 24, 25, 24, 19]\n",
      "Appending the Max:  [19, 22, 19, 24, 20, 25, 26, 24, 25, 24, 19, 26]\n",
      "Median :  36.0\n",
      "Average :  22.75\n",
      "Range :  7\n"
     ]
    }
   ],
   "source": [
    "\n",
    "# Given List...\n",
    "ages=[19,22,19,24,20,25,26,24,25,24]\n",
    "\n",
    "# Sorting and printing the list...\n",
    "print('sorted list is : ', sorted(ages))\n",
    "\n",
    "# Minimum age\n",
    "print(\"Minimum Age is : \", min(ages))\n",
    "\n",
    "# Maximum age\n",
    "print(\"Maximum Age is : \", max(ages))\n",
    "\n",
    "# Appending Minimum age to the list\n",
    "ages.append(min(ages))\n",
    "print(\"Appending the Min: \", ages)\n",
    "\n",
    "# Appending Maximum age to the list\n",
    "ages.append(max(ages)) \n",
    "print(\"Appending the Max: \", ages )\n",
    "\n",
    "# Median of ages\n",
    "# we can also import numpy and use median function...\n",
    "\n",
    "middle =len(ages)//2 #Finding the middle index and dividing by 2\n",
    "\n",
    "sortedList=sorted(ages)\n",
    "if len(ages) % 2: #checking if the list elements are even\n",
    "    print(\"Median : \", sortedList[middle]) # dividing the middle element by 2\n",
    "else: # Else odd...\n",
    "    print(\"Median : \", (sortedList[middle] + sortedList[middle +1]/2.0)) # averaging the both middle indexes\n",
    "\n",
    "# Average of ages.\n",
    "# We can also import numpy and use mean function...\n",
    "\n",
    "avg=sum(ages)/len(ages) #Sum of elements by number of elements\n",
    "print(\"Average : \", round(avg,2)) # printing an rounding it to two decimal places.\n",
    "\n",
    "# Range of Functions \n",
    "# Maximum number - Minimum number.\n",
    "print(\"Range : \", max(ages)-min(ages))"
   ]
  },
  {
   "cell_type": "markdown",
   "id": "80e666b7",
   "metadata": {},
   "source": [
    "# Question 2"
   ]
  },
  {
   "cell_type": "code",
   "execution_count": 3,
   "id": "b017bce2",
   "metadata": {},
   "outputs": [
    {
     "name": "stdout",
     "output_type": "stream",
     "text": [
      "\n",
      "{'Name': None, 'color': None, 'breed': None, 'legs': None, 'age': None}\n",
      "\n",
      "9\n",
      "\n",
      "<class 'list'>\n",
      "\n",
      "['communication', 'problem solving', 'Teamwork']\n",
      "\n",
      "dict_keys(['first_name', 'last_name', 'gender', 'age', 'marital status', 'skills', 'country', 'city', 'address'])\n",
      "\n",
      "dict_values(['Paul', 'Dakkumalla ', 'Male', 21, 'Single', ['communication', 'problem solving', 'Teamwork'], 'India', 'Hyderabad', '506 Almas Street'])\n"
     ]
    }
   ],
   "source": [
    "dog = {}  # empty Dictionary\n",
    "print() #new line\n",
    "# Adding the keys without values of the dictionary\n",
    "dog[\"Name\"] = None\n",
    "dog['color'] = None\n",
    "dog['breed'] = None\n",
    "dog['legs'] = None\n",
    "dog['age'] = None\n",
    "print(dog)\n",
    "\n",
    "# Creating student dictionary\n",
    "student = {\n",
    "    'first_name': \"Paul\",\n",
    "    'last_name': \"Dakkumalla \",\n",
    "    'gender': 'Male',\n",
    "    'age': 21,\n",
    "    'marital status': 'Single',\n",
    "    'skills': ['communication', 'problem solving'],\n",
    "    'country': 'India',\n",
    "    'city': 'Hyderabad',\n",
    "    'address': '506 Almas Street',\n",
    "}\n",
    "\n",
    "print() #new line\n",
    "# finding length using len()\n",
    "print(len(student))\n",
    "\n",
    "\n",
    "print() #new line\n",
    "# Getting the type of skills\n",
    "print(type(student['skills']))\n",
    "\n",
    "\n",
    "# Adding another skill value and printing it.\n",
    "print() #new line\n",
    "student['skills'].append('Teamwork')\n",
    "print(student['skills'])\n",
    "\n",
    "# Getting the keys as list.\n",
    "# can also convert the keys() to list and printing them...\n",
    "print() #new line\n",
    "print(student.keys())\n",
    "print() #new line\n",
    "\n",
    "# Getting the values as list.\n",
    "# can also convert the values() to list and printing them...\n",
    "print(student.values())\n"
   ]
  },
  {
   "cell_type": "markdown",
   "id": "06e8511a",
   "metadata": {},
   "source": [
    "# Question 3"
   ]
  },
  {
   "cell_type": "code",
   "execution_count": 4,
   "id": "a9a0d860",
   "metadata": {},
   "outputs": [
    {
     "name": "stdout",
     "output_type": "stream",
     "text": [
      "\n",
      "7\n",
      "\n",
      "('Maaz', 'Kevin', 'Charles', 'Susannah', 'Amy', 'Sheena', 'Sheryl', 'Prakash', 'Vijaya')\n",
      "\n"
     ]
    }
   ],
   "source": [
    "# Creating a bro tuple\n",
    "\n",
    "brothers=('Maaz','Kevin','Charles')\n",
    "\n",
    "#creating a Sis tuple\n",
    "sisters=('Susannah','Amy','Sheena','Sheryl')\n",
    "\n",
    "#adding these two tuples\n",
    "\n",
    "siblings=brothers + sisters\n",
    "\n",
    "\n",
    "print() #new line\n",
    "#length of siblings tuple\n",
    "print(len(siblings))\n",
    "# Adding Parents names...\n",
    "\n",
    "#converting the siblings tuple into a list.\n",
    "#Tuples are immutable. We cannot append or extend. So, I am converting it to List first.\n",
    "sibList=list(siblings)\n",
    "#parents List\n",
    "parents=['Prakash','Vijaya']\n",
    "\n",
    "# adding parents list to siblings list \n",
    "sibList.extend(parents)\n",
    "\n",
    "# again changing the sibList to Tuple \n",
    "\n",
    "family_members=tuple(sibList)\n",
    "\n",
    "\n",
    "print() #new line\n",
    "# Printing the family members\n",
    "\n",
    "print(family_members)\n",
    "\n",
    "print() #new line\n"
   ]
  },
  {
   "cell_type": "code",
   "execution_count": null,
   "id": "194aff54",
   "metadata": {},
   "outputs": [],
   "source": []
  },
  {
   "cell_type": "markdown",
   "id": "8b8ce2db",
   "metadata": {},
   "source": [
    "# Question 4"
   ]
  },
  {
   "cell_type": "code",
   "execution_count": 23,
   "id": "65f13704",
   "metadata": {},
   "outputs": [
    {
     "name": "stdout",
     "output_type": "stream",
     "text": [
      "Length of it_companies:  7\n",
      "\n",
      "\n",
      "{'Amazon', 'Oracle', 'IBM', 'Google', 'Facebook', 'Apple', 'Microsoft', 'TCS', 'Accenture', 'Twitter'}\n",
      "Joined:  {19, 20, 22, 24, 25, 26, 27, 28}\n",
      "Intersection :  {19, 20, 22, 24, 25, 26}\n",
      "True\n",
      "False\n",
      "{19, 20, 22, 24, 25, 26, 27, 28}\n",
      "{19, 20, 22, 24, 25, 26, 27, 28}\n",
      "The symmetry between A and B is =  {27, 28}\n",
      "length of Ages:  5\n"
     ]
    }
   ],
   "source": [
    "it_companies = {'Facebook', 'Google', 'Microsoft', 'Apple', 'IBM', 'Oracle', 'Amazon'}\n",
    "A = {19, 22, 24, 20, 25, 26} \n",
    "B = {19, 22, 20, 25, 26, 24, 28, 27} \n",
    "age = [22, 19, 24, 25, 26, 24, 25, 24]  \n",
    "\n",
    "#Length of it_companies\n",
    "print('Length of it_companies: ', len(it_companies))\n",
    "\n",
    "#adding an element to  a set\n",
    "it_companies.add('Twitter')\n",
    "\n",
    "#Adding more it companies\n",
    "more_it_companies = {'Netflix','TCS','Accenture'}\n",
    "\n",
    "print() #new line\n",
    "#adding multi it companies to set it_companies \n",
    "New_it_companies=more_it_companies.union(it_companies)\n",
    "\n",
    "#remove an item from _it_companies\n",
    "\n",
    "print() #new line\n",
    "New_it_companies.remove('Netflix')\n",
    "\n",
    "#printing the rest It_companies\n",
    "print(New_it_companies)\n",
    "\n",
    "# Joining the A and B\n",
    "joi=A.union(B)\n",
    "print(\"Joined: \", joi)\n",
    "\n",
    "#intersection\n",
    "inte=A.intersection(B)\n",
    "print(\"Intersection : \", inte)\n",
    "\n",
    "# is subset.\n",
    "print(A.issubset(B))\n",
    "\n",
    "# is disjoint\n",
    "print(A.isdisjoint(B)) \n",
    "\n",
    "# A join to B and B join A\n",
    "print(A.union(B))\n",
    "\n",
    "print(B.union(A))\n",
    "\n",
    "# Symmetric Difference between A and B.\n",
    "print('The symmetry between A and B is = ', A.symmetric_difference(B))\n",
    "\n",
    "# Removing the sets...\n",
    "New_it_companies.clear()\n",
    "A.clear()\n",
    "B.clear()\n",
    "\n",
    "\n",
    "# converting Ages to set and finding the length. \n",
    "Ages=set(age)\n",
    "print(\"length of Ages: \", len(Ages))"
   ]
  },
  {
   "cell_type": "code",
   "execution_count": null,
   "id": "a1f6b5b3",
   "metadata": {},
   "outputs": [],
   "source": []
  },
  {
   "cell_type": "markdown",
   "id": "409c5c9c",
   "metadata": {},
   "source": [
    "# Question 5"
   ]
  },
  {
   "cell_type": "code",
   "execution_count": 24,
   "id": "7246f921",
   "metadata": {},
   "outputs": [
    {
     "name": "stdout",
     "output_type": "stream",
     "text": [
      "2826.0\n",
      "188.4\n",
      "Enter the radius: 13\n",
      "530.66\n"
     ]
    }
   ],
   "source": [
    "radius = 30\n",
    "\n",
    "# Calculating Area of Circle...\n",
    "\n",
    "_area_of_circle_= 3.14 * radius * radius \n",
    "\n",
    "print(_area_of_circle_)\n",
    "\n",
    "# Calculating Circumference of Circle...\n",
    "\n",
    "_circum_of_circle_= 2 * 3.14 * radius\n",
    "\n",
    "print(_circum_of_circle_)\n",
    "\n",
    "# Now Taking the radius from user and calculating the area...\n",
    "\n",
    "radius1= int(input(\"Enter the radius: \"))\n",
    "\n",
    "area = 3.14 * radius1 * radius1\n",
    "\n",
    "print(area)"
   ]
  },
  {
   "cell_type": "code",
   "execution_count": null,
   "id": "5d9c9808",
   "metadata": {},
   "outputs": [],
   "source": []
  },
  {
   "cell_type": "markdown",
   "id": "ebb07caa",
   "metadata": {},
   "source": [
    "# Question 6"
   ]
  },
  {
   "cell_type": "code",
   "execution_count": 10,
   "id": "36bbf9f7",
   "metadata": {},
   "outputs": [
    {
     "name": "stdout",
     "output_type": "stream",
     "text": [
      "10\n",
      "{'am', 'and', 'teacher', 'to', 'teach', 'I', 'love', 'inspire', 'people', 'a'}\n"
     ]
    }
   ],
   "source": [
    "sentence=\"I am a teacher and I love to inspire and teach people\"\n",
    "\n",
    "# Finding the unique word length \n",
    "print(len(set(sentence.split())))\n",
    "\n",
    "# printing the unique words...\n",
    "print(set(sentence.split()))"
   ]
  },
  {
   "cell_type": "code",
   "execution_count": null,
   "id": "353db5f9",
   "metadata": {},
   "outputs": [],
   "source": []
  },
  {
   "cell_type": "markdown",
   "id": "226b915f",
   "metadata": {},
   "source": [
    "# Question 7"
   ]
  },
  {
   "cell_type": "code",
   "execution_count": 12,
   "id": "8a5ee4f6",
   "metadata": {},
   "outputs": [
    {
     "name": "stdout",
     "output_type": "stream",
     "text": [
      "Name \t Age \t Country City \n",
      " Asabeneh \t 250 \t Finland Helsinki\n"
     ]
    }
   ],
   "source": [
    "#  using tab sapce \\t...\n",
    "print('Name \\t Age \\t Country City \\n Asabeneh \\t 250 \\t Finland Helsinki')\n"
   ]
  },
  {
   "cell_type": "code",
   "execution_count": null,
   "id": "59c821a7",
   "metadata": {},
   "outputs": [],
   "source": []
  },
  {
   "cell_type": "markdown",
   "id": "3cb1b466",
   "metadata": {},
   "source": [
    "# Question 8"
   ]
  },
  {
   "cell_type": "code",
   "execution_count": 14,
   "id": "a601b91c",
   "metadata": {},
   "outputs": [
    {
     "name": "stdout",
     "output_type": "stream",
     "text": [
      "The area of a circle with radius 10 is 314 meters square.\n"
     ]
    }
   ],
   "source": [
    "radius = 10\n",
    "\n",
    "area = 3.14 * radius ** 2\n",
    "\n",
    "#printing the output using string formatting...\n",
    "\n",
    "print(f'The area of a circle with radius {radius} is {round(area)} meters square.')"
   ]
  },
  {
   "cell_type": "code",
   "execution_count": null,
   "id": "b8cb37fc",
   "metadata": {},
   "outputs": [],
   "source": []
  },
  {
   "cell_type": "markdown",
   "id": "e4e161a3",
   "metadata": {},
   "source": [
    "# Question 9"
   ]
  },
  {
   "cell_type": "code",
   "execution_count": 17,
   "id": "5f5bf84f",
   "metadata": {},
   "outputs": [
    {
     "name": "stdout",
     "output_type": "stream",
     "text": [
      "Enter the number of weights you want to enter in  lbs: 4\n",
      "enter weights: 150\n",
      "enter weights: 155\n",
      "enter weights: 145\n",
      "enter weights: 148\n",
      "Weight in Kilograms are:  [68.04, 70.31, 65.77, 67.13]\n"
     ]
    }
   ],
   "source": [
    "# user input \n",
    "num=int(input('Enter the number of weights you want to enter in  lbs: '))\n",
    "\n",
    "# empty list\n",
    "weight_in_kgs=[]\n",
    "\n",
    "# empty list \n",
    "weight_in_lbs=[]\n",
    "\n",
    "# appending the inputs to a list\n",
    "for i in range(num):\n",
    "    weight_in_lb=float(input('enter weights: '))\n",
    "    weight_in_lbs.append(weight_in_lb)\n",
    "for j in weight_in_lbs:\n",
    "    weight_in_kgs.append(round(j*0.45359,2))\n",
    "print ('Weight in Kilograms are: ', weight_in_kgs)"
   ]
  },
  {
   "cell_type": "code",
   "execution_count": null,
   "id": "5e20672b",
   "metadata": {},
   "outputs": [],
   "source": []
  },
  {
   "cell_type": "markdown",
   "id": "3ed6b5fd",
   "metadata": {},
   "source": [
    "# Question 10"
   ]
  },
  {
   "cell_type": "code",
   "execution_count": null,
   "id": "d28ddcdc",
   "metadata": {},
   "outputs": [],
   "source": []
  }
 ],
 "metadata": {
  "kernelspec": {
   "display_name": "Python 3 (ipykernel)",
   "language": "python",
   "name": "python3"
  },
  "language_info": {
   "codemirror_mode": {
    "name": "ipython",
    "version": 3
   },
   "file_extension": ".py",
   "mimetype": "text/x-python",
   "name": "python",
   "nbconvert_exporter": "python",
   "pygments_lexer": "ipython3",
   "version": "3.9.13"
  }
 },
 "nbformat": 4,
 "nbformat_minor": 5
}
