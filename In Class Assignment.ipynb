{
 "cells": [
  {
   "cell_type": "code",
   "execution_count": 11,
   "id": "97aba548",
   "metadata": {},
   "outputs": [
    {
     "name": "stdout",
     "output_type": "stream",
     "text": [
      " \n",
      "* \n",
      "** \n",
      "*** \n",
      "**** \n",
      "***** \n",
      "**** \n",
      "*** \n",
      "** \n",
      "* \n"
     ]
    }
   ],
   "source": [
    "for i in range(5): # loop for indexes\n",
    "    for j in range(i): # loop for spaces \n",
    "        print('*',end= '')\n",
    "    print(\" \")\n",
    "for i in range(5,0,-1): # loop for indexes in reverse order\n",
    "    for j in range(i): # loop for spaces\n",
    "        print('*', end =\"\")\n",
    "    print(\" \")"
   ]
  },
  {
   "cell_type": "code",
   "execution_count": 18,
   "id": "775d5ccb",
   "metadata": {},
   "outputs": [
    {
     "name": "stdout",
     "output_type": "stream",
     "text": [
      "[20, 40, 60, 80, 100]\n"
     ]
    }
   ],
   "source": [
    "my_list = [10, 20, 30, 40, 50, 60, 70, 80, 90, 100] #given list\n",
    "# empty list\n",
    "my_odd_list=[]\n",
    "\n",
    "for i in range(len(my_list)): #looping through indexes \n",
    "    if i%2!=0: #checking the index position is odd...\n",
    "        my_odd_list.append(my_list[i]) # appending the values indexed in odd postion to new list\n",
    "print(my_odd_list)"
   ]
  },
  {
   "cell_type": "code",
   "execution_count": 32,
   "id": "21b6f0ee",
   "metadata": {},
   "outputs": [
    {
     "name": "stdout",
     "output_type": "stream",
     "text": [
      "[<class 'int'>, <class 'str'>, <class 'float'>]\n"
     ]
    }
   ],
   "source": [
    "x = [23, 'Python', 23.98]\n",
    "type_list=[]\n",
    "# for i in (x):\n",
    "    # print(type(x[i]))\n",
    "for i in x: #looping through list.. \n",
    "    type_list.append(type(i)) # appending the type of list \n",
    "print(type_list)"
   ]
  },
  {
   "cell_type": "code",
   "execution_count": 38,
   "id": "2a4524a9",
   "metadata": {},
   "outputs": [
    {
     "name": "stdout",
     "output_type": "stream",
     "text": [
      "[1, 2, 3, 4, 5]\n"
     ]
    }
   ],
   "source": [
    "def uniqueList(lst): #declaration of a function \n",
    "    return list(set(lst)) # filtering all unique values\n",
    "\n",
    "sample_list = [1,2,3,3,3,3,4,5] \n",
    "print(uniqueList(sample_list)) #calling the function and printing it...\n",
    "\n",
    "    "
   ]
  },
  {
   "cell_type": "code",
   "execution_count": 53,
   "id": "f5ebba18",
   "metadata": {},
   "outputs": [
    {
     "name": "stdout",
     "output_type": "stream",
     "text": [
      "No. of upper-case characters is: 3\n",
      "No. of lower-case characters is: 12\n"
     ]
    }
   ],
   "source": [
    "str= 'The quick Brow Fox'\n",
    "low=0\n",
    "upp=0\n",
    "for i in str: #looping through strinf\n",
    "    if(i.islower()): # checking each character if it is lower-case or no...\n",
    "        low+=1 #incrementing low by 1\n",
    "    elif(i.isupper()):\n",
    "        upp+=1 #incrementing upp by 1\n",
    "#printing the characters\n",
    "print(\"No. of upper-case characters is:\",upp)\n",
    "print(\"No. of lower-case characters is:\",low)"
   ]
  },
  {
   "cell_type": "code",
   "execution_count": null,
   "id": "b484ccb4",
   "metadata": {},
   "outputs": [],
   "source": []
  }
 ],
 "metadata": {
  "kernelspec": {
   "display_name": "Python 3 (ipykernel)",
   "language": "python",
   "name": "python3"
  },
  "language_info": {
   "codemirror_mode": {
    "name": "ipython",
    "version": 3
   },
   "file_extension": ".py",
   "mimetype": "text/x-python",
   "name": "python",
   "nbconvert_exporter": "python",
   "pygments_lexer": "ipython3",
   "version": "3.9.13"
  }
 },
 "nbformat": 4,
 "nbformat_minor": 5
}
